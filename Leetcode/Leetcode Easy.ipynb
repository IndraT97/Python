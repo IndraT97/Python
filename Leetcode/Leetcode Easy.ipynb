{
 "cells": [
  {
   "cell_type": "code",
   "execution_count": 18,
   "metadata": {},
   "outputs": [
    {
     "name": "stdout",
     "output_type": "stream",
     "text": [
      "0 1\n"
     ]
    }
   ],
   "source": [
    "# 1.Two Sum\n",
    "nums = [3,3] \n",
    "target = 6\n",
    "for i in range(len(nums)):\n",
    "    for j in range(i+1,len(nums)):\n",
    "        if nums[i] + nums[j] == target:\n",
    "            print(i,j)"
   ]
  },
  {
   "cell_type": "code",
   "execution_count": 34,
   "metadata": {},
   "outputs": [
    {
     "name": "stdout",
     "output_type": "stream",
     "text": [
      "No\n"
     ]
    }
   ],
   "source": [
    "# 2.Palindrome Number\n",
    "\n",
    "num = -121\n",
    "new_num = \"\"\n",
    "for i in range(len(str(num))):\n",
    "    new_num = new_num + str(num)[~i]\n",
    "if str(num) == new_num:\n",
    "    print(\"Yes, Palindrome\")\n",
    "else:\n",
    "    print(\"No\")"
   ]
  },
  {
   "cell_type": "code",
   "execution_count": 79,
   "metadata": {},
   "outputs": [
    {
     "name": "stdout",
     "output_type": "stream",
     "text": [
      "2216\n"
     ]
    }
   ],
   "source": [
    "# 3.Roman to Integer\n",
    "\n",
    "Dict1 = {\"I\":1,\"V\":5,\"X\":10,\"L\":50,\"C\":100,\"D\":500,\"M\":1000}\n",
    "uip = \"MCMXCIV\"\n",
    "new_num = 0\n",
    "for i in uip:\n",
    "    new_num = new_num + Dict1[i]\n",
    "print(new_num)\n",
    "\n",
    "# uip = \"MCMXCIV\"\n",
    "# for i in range(len(uip)):\n",
    "#     if abs(~i) % 2 == 0:\n",
    "#         print(~i)\n",
    "\n",
    "\n",
    "# uip = \"MCMXCIV\"\n",
    "# lt = []\n",
    "# bt = []\n",
    "# if len(uip)%2 != 0:\n",
    "#     for i in range(len(uip)):\n",
    "#         if abs(~i) % 2 == 0:\n",
    "#             lt.append(~i)\n",
    "#     for i in range(len(lt)):\n",
    "#         bt.append(lt[i] + 1)\n",
    "\n",
    "# print(lt)\n",
    "# print(bt)\n",
    "# for i,j in (lt,bt):\n",
    "#     print(i,j)"
   ]
  },
  {
   "cell_type": "code",
   "execution_count": 102,
   "metadata": {},
   "outputs": [
    {
     "name": "stdout",
     "output_type": "stream",
     "text": [
      "flow\n",
      "['flower', 'flight']\n",
      "{'': 0, 'f': 1, 'fl': 2, 'flo': 3}\n"
     ]
    }
   ],
   "source": [
    "# 14.Longest Common Prefix\n",
    "\n",
    "strs = [\"flower\",\"flow\",\"flight\"]\n",
    "dict1 = {}\n",
    "dict2 = {}\n",
    "for i in strs:\n",
    "    dict1.update({i:len(i)})\n",
    "Shortest_Str = min(dict1, key=dict1.get)\n",
    "strs.remove(f\"{Shortest_Str}\")\n",
    "for i in range(len(Shortest_Str)):\n",
    "    for x in strs:\n",
    "        if Shortest_Str[0:i] in x:\n",
    "            dict2.update({Shortest_Str[0:i]:len(Shortest_Str[0:i])})\n",
    "\n",
    "print(dict2)"
   ]
  },
  {
   "cell_type": "code",
   "execution_count": 139,
   "metadata": {},
   "outputs": [
    {
     "name": "stdout",
     "output_type": "stream",
     "text": [
      "[0]\n"
     ]
    }
   ],
   "source": [
    "# 21.Merge Two Sorted Lists\n",
    "list1 = []\n",
    "list2 = [0]\n",
    "\n",
    "lt = list1 + list2\n",
    "print(sorted(lt))"
   ]
  },
  {
   "cell_type": "code",
   "execution_count": 1,
   "metadata": {},
   "outputs": [
    {
     "data": {
      "text/plain": [
       "[1, 2, 3, 4, 5, 7, 8, 34, 23]"
      ]
     },
     "execution_count": 1,
     "metadata": {},
     "output_type": "execute_result"
    }
   ],
   "source": [
    "# 26.Remove Duplicates from Sorted Array\n",
    "\n",
    "nums = [1,1,2,3,4,5,7,7,8,8,34,23,23]\n",
    "for  i in nums:\n",
    "    if i in nums[nums.index(i) + 1:]:\n",
    "        nums.remove(i)\n",
    "nums        "
   ]
  },
  {
   "cell_type": "code",
   "execution_count": 176,
   "metadata": {},
   "outputs": [
    {
     "name": "stdout",
     "output_type": "stream",
     "text": [
      "[0, 1, 3, 0, 4, 2, 2, 2]\n",
      "[0, 1, 3, 0, 4]\n",
      "[2, 2, 2]\n"
     ]
    }
   ],
   "source": [
    "# 27.Remove Element\n",
    "\n",
    "nums = [0,1,2,2,3,0,4,2]\n",
    "list1 = []\n",
    "list2 =[]\n",
    "val = 2\n",
    "\n",
    "for i in nums:\n",
    "    if i == val:\n",
    "        list2.append(i)\n",
    "    else:\n",
    "        list1.append(i)\n",
    "\n",
    "lst = list1 + list2\n",
    "\n",
    "print(lst)\n",
    "print(list1)\n",
    "print(list2)"
   ]
  },
  {
   "cell_type": "code",
   "execution_count": 183,
   "metadata": {},
   "outputs": [
    {
     "data": {
      "text/plain": [
       "-1"
      ]
     },
     "execution_count": 183,
     "metadata": {},
     "output_type": "execute_result"
    }
   ],
   "source": [
    "# 28.Find the Index of the First Occurrence in a String\n",
    "\n",
    "haystack = \"leetcode\"\n",
    "needle = \"leeto\"\n",
    "\n",
    "haystack.find(needle)"
   ]
  },
  {
   "cell_type": "code",
   "execution_count": 193,
   "metadata": {},
   "outputs": [
    {
     "name": "stdout",
     "output_type": "stream",
     "text": [
      "-1\n"
     ]
    }
   ],
   "source": [
    "# 28.Find the Index of the First Occurrence in a String\n",
    "\n",
    "haystack = \"leetcode\"\n",
    "needle = \"leeto\"\n",
    "\n",
    "for i in range(len(haystack)):\n",
    "    for x in range(i+1,len(haystack)):\n",
    "        if haystack[i:x] == needle:\n",
    "            print(i)\n",
    "            break\n",
    "else:\n",
    "    print(-1)"
   ]
  },
  {
   "cell_type": "code",
   "execution_count": 203,
   "metadata": {},
   "outputs": [
    {
     "name": "stdout",
     "output_type": "stream",
     "text": [
      "4\n"
     ]
    }
   ],
   "source": [
    "# 35. Search Insert Position\n",
    "\n",
    "nums = [1,3,5,6] \n",
    "target = 7\n",
    "for i in nums:\n",
    "    if i == target:\n",
    "        print(nums.index(i))\n",
    "        break\n",
    "    else:\n",
    "        k = sorted(nums + [target])\n",
    "        print(k.index(target))\n",
    "        break"
   ]
  },
  {
   "cell_type": "code",
   "execution_count": 241,
   "metadata": {},
   "outputs": [
    {
     "name": "stdout",
     "output_type": "stream",
     "text": [
      "6\n"
     ]
    }
   ],
   "source": [
    "# 58. Length of Last Word\n",
    "\n",
    "s = \"   Hello, World!   \"\n",
    "for i in range(len(s)):\n",
    "    if s.strip()[~i] ==\" \":\n",
    "        print(len(s[~i+1:len(s)]))\n",
    "        break"
   ]
  },
  {
   "cell_type": "code",
   "execution_count": 263,
   "metadata": {},
   "outputs": [
    {
     "name": "stdout",
     "output_type": "stream",
     "text": [
      "[9]\n",
      "[1, 0]\n"
     ]
    }
   ],
   "source": [
    "# 66. Plus One\n",
    "\n",
    "digits = [9]\n",
    "x = \"\"\n",
    "New_digit = []\n",
    "for i in digits:\n",
    "    x = x + str(i)\n",
    "    y = int(x) + 1\n",
    "for i in str(y):\n",
    "    New_digit.append(int(i))\n",
    "print(digits)\n",
    "print(New_digit)"
   ]
  },
  {
   "cell_type": "code",
   "execution_count": 309,
   "metadata": {},
   "outputs": [
    {
     "name": "stdout",
     "output_type": "stream",
     "text": [
      "-1\n",
      "0\n",
      "-2\n",
      "100\n"
     ]
    },
    {
     "data": {
      "text/plain": [
       "'100'"
      ]
     },
     "execution_count": 309,
     "metadata": {},
     "output_type": "execute_result"
    }
   ],
   "source": [
    "# 67.Add Binary\n",
    "\n",
    "a = \"11\" \n",
    "b = \"01\"\n",
    "output = \"10101\"\n",
    "x=\"\"\n",
    "carry = 0\n",
    "\n",
    "for i in range(len(a)):\n",
    "    print(~i)\n",
    "    if abs(~i) == len(a) and carry + int(a[~i]) + int(b[~i]) == 2:\n",
    "        x = \"10\" + x\n",
    "        print(x)\n",
    "    else:\n",
    "        if carry + int(a[~i]) + int(b[~i]) == 0 or carry + int(a[~i]) + int(b[~i]) == 1:\n",
    "            x = f\"{carry + int(a[~i]) + int(b[~i])}\" + x\n",
    "            carry = 0\n",
    "            print(x)\n",
    "        else:\n",
    "            x = \"0\" + x\n",
    "            carry = 1\n",
    "            print(x)\n",
    "x"
   ]
  },
  {
   "cell_type": "code",
   "execution_count": 320,
   "metadata": {},
   "outputs": [
    {
     "name": "stdout",
     "output_type": "stream",
     "text": [
      "3\n"
     ]
    }
   ],
   "source": [
    "# 69.Sqrt(x)\n",
    "\n",
    "x = 10\n",
    "for i in range(0,100):\n",
    "    if i*i == x:\n",
    "        print(i)\n",
    "        break\n",
    "    elif i*i > x:\n",
    "        print(i-1)\n",
    "        break"
   ]
  },
  {
   "cell_type": "code",
   "execution_count": null,
   "metadata": {},
   "outputs": [],
   "source": [
    "# 70. Climbing Stairs\n",
    "\n",
    "n = 5\n",
    "\n",
    "1,1,1,1,1\n",
    "2,1,1,1\n",
    "2,2,1\n",
    "\n",
    "n = 6\n",
    "\n",
    "1,1,1,1,1,1\n",
    "2,1,1,1,1\n",
    "2,2,1,1\n",
    "2,2,2\n",
    "\n",
    "n = 7 \n",
    "\n",
    "1,1,1,1,1,1,1\n",
    "2,1,1,1,1,1\n",
    "2,2,1,1,1\n",
    "2,2,2,1\n"
   ]
  },
  {
   "cell_type": "code",
   "execution_count": 359,
   "metadata": {},
   "outputs": [],
   "source": [
    "#need to complete\n",
    "\n",
    "# n = 6\n",
    "# x = n//2\n",
    "# lst = []\n",
    "# for i in range(n):\n",
    "#     lst.append(n)\n",
    "#     n = n - 2\n",
    "#     if n<0 :\n",
    "#         break\n",
    "# print(lst)\n"
   ]
  },
  {
   "cell_type": "code",
   "execution_count": 361,
   "metadata": {},
   "outputs": [
    {
     "data": {
      "text/plain": [
       "[1, 2, 3]"
      ]
     },
     "execution_count": 361,
     "metadata": {},
     "output_type": "execute_result"
    }
   ],
   "source": [
    "# 83. Remove Duplicates from Sorted List\n",
    "\n",
    "head = [1,1,2,3,3]\n",
    "lt = []\n",
    "for i in head:\n",
    "    if i not in lt:\n",
    "        lt = lt + [i]\n",
    "    else:\n",
    "        continue\n",
    "lt"
   ]
  },
  {
   "cell_type": "code",
   "execution_count": 381,
   "metadata": {},
   "outputs": [
    {
     "name": "stdout",
     "output_type": "stream",
     "text": [
      "[1, 2, 3, 6, 5, 2]\n",
      "[1, 2, 2, 3, 5, 6]\n"
     ]
    }
   ],
   "source": [
    "# 88. Merge Sorted Array\n",
    "\n",
    "nums1 = [1,2,3,0,0,0] \n",
    "m = 3 \n",
    "nums2 = [2,5,6] \n",
    "n = 3\n",
    "\n",
    "for i in range(m):\n",
    "    nums1[~i] = nums1[~i] + nums2[i]\n",
    "\n",
    "print(nums1)\n",
    "\n",
    "for i in range(len(nums1)):\n",
    "    for y in range(0,len(nums1)-i-1):\n",
    "        if nums1[y] > nums1[y + 1] :\n",
    "            nums1[y] , nums1[y + 1] = nums1[y + 1] , nums1[y]\n",
    "print(nums1)"
   ]
  },
  {
   "cell_type": "code",
   "execution_count": 390,
   "metadata": {},
   "outputs": [],
   "source": [
    "p = [1,2,1] \n",
    "q = [1,1,2]\n",
    "y = 0   \n",
    "if len(p) == len(q):\n",
    "    for i in range(len(p)):\n",
    "        if p[i] == q[i]:\n",
    "            y += 1\n",
    "\n",
    "if len(p) == y: \n",
    "    print(\"Yes\")"
   ]
  },
  {
   "cell_type": "code",
   "execution_count": 13,
   "metadata": {},
   "outputs": [
    {
     "data": {
      "text/plain": [
       "[[1], [1], [1], [1], [1]]"
      ]
     },
     "execution_count": 13,
     "metadata": {},
     "output_type": "execute_result"
    }
   ],
   "source": [
    "# Pascal Triangle\n",
    "\n",
    "\n",
    "# numRows = 5\n",
    "# Output =  [[1],[1,1],[1,2,1],[1,3,3,1],[1,4,6,4,1]]\n",
    "# x = []\n",
    "# for i in range(numRows):\n",
    "#     for i in range(1,2):\n",
    "#         x.append([1])\n",
    "\n",
    "\n",
    "# x"
   ]
  },
  {
   "cell_type": "code",
   "execution_count": 39,
   "metadata": {},
   "outputs": [
    {
     "name": "stdout",
     "output_type": "stream",
     "text": [
      "0\n"
     ]
    }
   ],
   "source": [
    "# 121. Best Time to Buy and Sell Stock\n",
    "\n",
    "prices = [7,6,4,3,1]\n",
    "\n",
    "if prices.index(min(prices)) == len(prices) - 1:\n",
    "    print(\"0\")\n",
    "else:\n",
    "    x = prices[prices.index(min(prices))]\n",
    "    y = max(prices[prices.index(min(prices)):])\n",
    "    print(y - x)"
   ]
  },
  {
   "cell_type": "code",
   "execution_count": 6,
   "metadata": {},
   "outputs": [
    {
     "name": "stdout",
     "output_type": "stream",
     "text": [
      "No\n"
     ]
    }
   ],
   "source": [
    "# 125. Valid Palindrome\n",
    "\n",
    "x = \"race a car\"\n",
    "y = \"\"\n",
    "for i in x:\n",
    "    if not i.isalnum():\n",
    "        x = x.lower().replace(i,\"\")\n",
    "    if i.isalnum():\n",
    "        y = i.lower() + y \n",
    "\n",
    "if x == y:\n",
    "    print(\"Yes, Plaindrome\")\n",
    "else:\n",
    "    print(\"No\")"
   ]
  },
  {
   "cell_type": "code",
   "execution_count": 14,
   "metadata": {},
   "outputs": [
    {
     "name": "stdout",
     "output_type": "stream",
     "text": [
      "1\n"
     ]
    }
   ],
   "source": [
    "# 136. Single Number\n",
    "\n",
    "nums = [1]\n",
    "dict = {}\n",
    "for i in nums:\n",
    "    if i in dict.keys():\n",
    "        dict[i] = dict.get(i) + 1\n",
    "    else:\n",
    "        dict.update({i:1})\n",
    "print(min(dict, key=dict.get))"
   ]
  },
  {
   "cell_type": "code",
   "execution_count": 23,
   "metadata": {},
   "outputs": [
    {
     "name": "stdout",
     "output_type": "stream",
     "text": [
      "3\n"
     ]
    }
   ],
   "source": [
    "# 169. Majority Element\n",
    "\n",
    "nums = [3,2,3]\n",
    "dict = {}\n",
    "x = ((len(nums))/2)\n",
    "for i in nums:\n",
    "    if i in dict.keys():\n",
    "        dict[i] = dict.get(i) + 1\n",
    "    else:\n",
    "        dict.update({i:1})\n",
    "if max(dict.values()) > x:\n",
    "    print(max(dict, key=dict.get))\n",
    "else:\n",
    "    print(\"-1\")"
   ]
  },
  {
   "cell_type": "code",
   "execution_count": 48,
   "metadata": {},
   "outputs": [
    {
     "name": "stdout",
     "output_type": "stream",
     "text": [
      "Happy Number\n"
     ]
    }
   ],
   "source": [
    "# 202.Happy Number\n",
    "\n",
    "n = 13\n",
    "while n != 1:\n",
    "    x = 0\n",
    "    for i in str(n):\n",
    "        x = x + int(i)**2\n",
    "    n = x\n",
    "\n",
    "if n == 1:\n",
    "    print(\"Happy Number\")\n",
    "else:\n",
    "    print(\"Not a Happy Number\")"
   ]
  },
  {
   "cell_type": "code",
   "execution_count": 49,
   "metadata": {},
   "outputs": [],
   "source": [
    "# 203. Remove Linked List Elements\n",
    "\n",
    "head = [1,2,6,3,4,5,6]\n",
    "val = 6\n",
    "\n",
    "for i in head:\n",
    "    if i == val:\n",
    "        head.remove(i)\n",
    "    else:\n",
    "        continue"
   ]
  },
  {
   "cell_type": "code",
   "execution_count": 89,
   "metadata": {},
   "outputs": [],
   "source": [
    "# 205. Isomorphic Strings\n",
    "\n",
    "s = \"egg\"\n",
    "t = \"add\"\n",
    "dt = {}\n",
    "dt2 = {}\n",
    "if len(s) == len(t):\n",
    "    for i,j in zip(s,t):\n",
    "            if i in dt and dt.get(i) != j:\n",
    "                print(\"Not an Isomorphic String\")\n",
    "                break\n",
    "            else:\n",
    "                dt.update({i:j})"
   ]
  },
  {
   "cell_type": "code",
   "execution_count": 98,
   "metadata": {},
   "outputs": [
    {
     "name": "stdout",
     "output_type": "stream",
     "text": [
      "0 -1\n"
     ]
    },
    {
     "data": {
      "text/plain": [
       "[2, 1]"
      ]
     },
     "execution_count": 98,
     "metadata": {},
     "output_type": "execute_result"
    }
   ],
   "source": [
    "# 206.Reverse Linked List\n",
    "\n",
    "head = [1,2,3,4,5]\n",
    "head2 = []\n",
    "for i in range(len(head)):\n",
    "    head2.append(head[~i])\n",
    "\n",
    "#S2--\n",
    "\n",
    "head = [1,2,3,4,5]\n",
    "for i in range(len(head) // 2):\n",
    "        print(i,~i)\n",
    "        head[i],head[~i] = head[~i],head[i]\n",
    "head"
   ]
  },
  {
   "cell_type": "code",
   "execution_count": 113,
   "metadata": {},
   "outputs": [
    {
     "name": "stdout",
     "output_type": "stream",
     "text": [
      "Contains Duplicate\n"
     ]
    }
   ],
   "source": [
    "# 217.Contains Duplicate\n",
    "\n",
    "nums = [1,1,1,3,3,4,3,2,4,2]\n",
    "for i in nums:\n",
    "    if i in nums[nums.index(i) + 1:]:\n",
    "        print(\"Contains Duplicate\")\n",
    "        break\n",
    "else:\n",
    "    print(\"No  Duplicate\")\n",
    "\n",
    "# using nums.index(i) is  not the correct approch"
   ]
  },
  {
   "cell_type": "code",
   "execution_count": 130,
   "metadata": {},
   "outputs": [
    {
     "name": "stdout",
     "output_type": "stream",
     "text": [
      "True\n"
     ]
    }
   ],
   "source": [
    "# 219.Contains Duplicate II\n",
    "\n",
    "nums = [1,0,1,1]\n",
    "k = 1\n",
    "for i in range(len(nums)):\n",
    "    for j in range(i+1 ,len(nums)):\n",
    "        if nums[i] == nums[j] and abs(i-j) <= k:\n",
    "           print(\"True\")\n",
    "           break"
   ]
  },
  {
   "cell_type": "code",
   "execution_count": 151,
   "metadata": {},
   "outputs": [
    {
     "name": "stdout",
     "output_type": "stream",
     "text": [
      "[[0, 1, 2, 3], [6, 7, 8, 9], [11, 12]]\n",
      "[11, 12]\n",
      "7\n"
     ]
    }
   ],
   "source": [
    "# 228. Summary Ranges\n",
    "\n",
    "nums = [0,1,2,3,6,7,8,9,11,12]\n",
    "x = [nums[0]]\n",
    "z = []\n",
    "n = 0\n",
    "for i in range(n,len(nums)-1):\n",
    "    if nums[i+1] - nums[i] == 1:\n",
    "        x = x + [nums[i+1]]\n",
    "    else:\n",
    "        z.append(x)\n",
    "        x = [nums[i+1]]\n",
    "        n = i\n",
    "\n",
    "z.append(x)"
   ]
  },
  {
   "cell_type": "code",
   "execution_count": 154,
   "metadata": {},
   "outputs": [
    {
     "name": "stdout",
     "output_type": "stream",
     "text": [
      "4\n"
     ]
    }
   ],
   "source": [
    "# 231. Power of Two\n",
    "\n",
    "n = 16\n",
    "\n",
    "for i in range(0,100):\n",
    "    if 2**i == n:\n",
    "        print(i)"
   ]
  },
  {
   "cell_type": "code",
   "execution_count": 165,
   "metadata": {},
   "outputs": [],
   "source": [
    "# 234. Plaindrome Linked List\n",
    "\n",
    "head = [1,2,2,1]\n",
    "for i in range(len(head) // 2):\n",
    "    if head[i] == head[~i]:\n",
    "        continue\n",
    "    else:\n",
    "        print(\"No\")\n",
    "        break"
   ]
  },
  {
   "cell_type": "code",
   "execution_count": 174,
   "metadata": {},
   "outputs": [
    {
     "name": "stdout",
     "output_type": "stream",
     "text": [
      "No Anagram\n"
     ]
    }
   ],
   "source": [
    "# 234. Valid Anagram\n",
    "\n",
    "s = \"rat\"\n",
    "t = \"car\"\n",
    "\n",
    "if len(t) == len(s):\n",
    "    for i in s:\n",
    "        if s.count(i) == t.count(i):\n",
    "            continue\n",
    "        else:\n",
    "            print(\"No Anagram\")\n",
    "            break"
   ]
  },
  {
   "cell_type": "code",
   "execution_count": 181,
   "metadata": {},
   "outputs": [
    {
     "data": {
      "text/plain": [
       "0"
      ]
     },
     "execution_count": 181,
     "metadata": {},
     "output_type": "execute_result"
    }
   ],
   "source": [
    "# 256. Add Number\n",
    "\n",
    "x = 0\n",
    "l = []\n",
    "\n",
    "while len(str(x)) > 1:\n",
    "\n",
    "        for i in str(x):\n",
    "            l.append(int(i))\n",
    "        x = sum(l)\n",
    "        l = []\n",
    "x"
   ]
  },
  {
   "cell_type": "code",
   "execution_count": 202,
   "metadata": {},
   "outputs": [],
   "source": [
    "# 263. Ugly Number\n",
    "\n",
    "l = [2,3,5]\n",
    "n = 14\n",
    "\n",
    "for i in range(len(l)):\n",
    "    for  j in range(i+1,len(l)):\n",
    "        if l[i] * l[j] == n:\n",
    "            print(\"Ugly Number\")\n",
    "            break\n",
    "        elif any(l[i]**x == n for x in range(n)): \n",
    "                    print(\"Ugly\")\n",
    "                    break"
   ]
  },
  {
   "cell_type": "code",
   "execution_count": 200,
   "metadata": {},
   "outputs": [
    {
     "name": "stdout",
     "output_type": "stream",
     "text": [
      "Ugly\n",
      "Ugly\n"
     ]
    }
   ],
   "source": []
  }
 ],
 "metadata": {
  "kernelspec": {
   "display_name": "Python 3",
   "language": "python",
   "name": "python3"
  },
  "language_info": {
   "codemirror_mode": {
    "name": "ipython",
    "version": 3
   },
   "file_extension": ".py",
   "mimetype": "text/x-python",
   "name": "python",
   "nbconvert_exporter": "python",
   "pygments_lexer": "ipython3",
   "version": "3.10.11"
  }
 },
 "nbformat": 4,
 "nbformat_minor": 2
}
